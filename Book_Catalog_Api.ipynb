{
  "nbformat": 4,
  "nbformat_minor": 0,
  "metadata": {
    "colab": {
      "provenance": [],
      "collapsed_sections": [],
      "authorship_tag": "ABX9TyOAB7LONx91wDwkI20NWJYf",
      "include_colab_link": true
    },
    "kernelspec": {
      "name": "python3",
      "display_name": "Python 3"
    },
    "language_info": {
      "name": "python"
    }
  },
  "cells": [
    {
      "cell_type": "markdown",
      "metadata": {
        "id": "view-in-github",
        "colab_type": "text"
      },
      "source": [
        "<a href=\"https://colab.research.google.com/github/dtee1/Flask_Api_Tutorial/blob/main/Book_Catalog_Api.ipynb\" target=\"_parent\"><img src=\"https://colab.research.google.com/assets/colab-badge.svg\" alt=\"Open In Colab\"/></a>"
      ]
    },
    {
      "cell_type": "code",
      "execution_count": null,
      "metadata": {
        "id": "qjK1q9Ce1rpJ"
      },
      "outputs": [],
      "source": [
        "import sys\n",
        "!{sys.executable} -m pip install flask"
      ]
    },
    {
      "cell_type": "code",
      "source": [
        "import flask \n",
        "\n",
        "app = flask.Flask(__name__)\n",
        "app.config[\"Debug\"] = True\n",
        "\n",
        "@app.route('/', methods=['GET'])\n",
        "def home():\n",
        "  return \"<h1>Distant Reading Archive</h1><p>This site is a prototype API for distant reading of science fiction novels.</p>\"\n",
        "app.run()"
      ],
      "metadata": {
        "id": "iQVZ2UYY7dxU"
      },
      "execution_count": null,
      "outputs": []
    }
  ]
}